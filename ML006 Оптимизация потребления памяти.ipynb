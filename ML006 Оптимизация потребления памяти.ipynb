{
 "cells": [
  {
   "cell_type": "markdown",
   "id": "172b2d97",
   "metadata": {},
   "source": [
    "### Постановка задачи\n",
    "Загрузить данные по энергопотреблению всех зданий в оперативную память и добиться ее минимального расхода\n",
    "\n",
    "Данные:\n",
    "* http://video.ittensive.com/machine-learning/ashrae/building_metadata.csv.gz\n",
    "* http://video.ittensive.com/machine-learning/ashrae/weather_train.csv.gz\n",
    "* http://video.ittensive.com/machine-learning/ashrae/train.0.csv.gz\n",
    "Соревнование: https://www.kaggle.com/c/ashrae-energy-prediction/\n",
    "\n",
    "© ITtensive, 2020\n",
    "\n",
    "### Подключение библиотек"
   ]
  },
  {
   "cell_type": "code",
   "execution_count": 1,
   "id": "f11177d9",
   "metadata": {},
   "outputs": [],
   "source": [
    "import pandas as pd\n",
    "import numpy as np"
   ]
  },
  {
   "cell_type": "code",
   "execution_count": 2,
   "id": "52de0110",
   "metadata": {},
   "outputs": [
    {
     "name": "stdout",
     "output_type": "stream",
     "text": [
      "Machine parameters for float16\n",
      "---------------------------------------------------------------\n",
      "precision =   3   resolution = 1.00040e-03\n",
      "machep =    -10   eps =        9.76562e-04\n",
      "negep =     -11   epsneg =     4.88281e-04\n",
      "minexp =    -14   tiny =       6.10352e-05\n",
      "maxexp =     16   max =        6.55040e+04\n",
      "nexp =        5   min =        -max\n",
      "---------------------------------------------------------------\n",
      "\n",
      "Machine parameters for float32\n",
      "---------------------------------------------------------------\n",
      "precision =   6   resolution = 1.0000000e-06\n",
      "machep =    -23   eps =        1.1920929e-07\n",
      "negep =     -24   epsneg =     5.9604645e-08\n",
      "minexp =   -126   tiny =       1.1754944e-38\n",
      "maxexp =    128   max =        3.4028235e+38\n",
      "nexp =        8   min =        -max\n",
      "---------------------------------------------------------------\n",
      "\n",
      "Machine parameters for int8\n",
      "---------------------------------------------------------------\n",
      "min = -128\n",
      "max = 127\n",
      "---------------------------------------------------------------\n",
      "\n",
      "Machine parameters for int16\n",
      "---------------------------------------------------------------\n",
      "min = -32768\n",
      "max = 32767\n",
      "---------------------------------------------------------------\n",
      "\n",
      "Machine parameters for int32\n",
      "---------------------------------------------------------------\n",
      "min = -2147483648\n",
      "max = 2147483647\n",
      "---------------------------------------------------------------\n",
      "\n"
     ]
    }
   ],
   "source": [
    "for type_ in [\"f2\", \"f4\"]:\n",
    "    print (np.finfo(type_))\n",
    "for type_ in [\"i1\", \"i2\", \"i4\"]:\n",
    "    print (np.iinfo(type_))"
   ]
  },
  {
   "cell_type": "markdown",
   "id": "9f0efbc0",
   "metadata": {},
   "source": [
    "### Загрузка данных"
   ]
  },
  {
   "cell_type": "code",
   "execution_count": 3,
   "id": "5680a716",
   "metadata": {},
   "outputs": [],
   "source": [
    "buildings = pd.read_csv(\"http://video.ittensive.com/machine-learning/ashrae/building_metadata.csv.gz\")\n",
    "weather = pd.read_csv(\"http://video.ittensive.com/machine-learning/ashrae/weather_train.csv.gz\")\n",
    "energy = pd.read_csv(\"http://video.ittensive.com/machine-learning/ashrae/train.0.csv.gz\")"
   ]
  },
  {
   "cell_type": "markdown",
   "id": "1ccd54d6",
   "metadata": {},
   "source": [
    "### Потребление памяти"
   ]
  },
  {
   "cell_type": "code",
   "execution_count": 4,
   "id": "e061ab43",
   "metadata": {},
   "outputs": [
    {
     "name": "stdout",
     "output_type": "stream",
     "text": [
      "Строения:  0.0664520263671875 Мб\n",
      "Погода:  9.597572326660156 Мб\n",
      "Энергопотребление:  368.06988525390625 Мб\n"
     ]
    }
   ],
   "source": [
    "print (\"Строения: \", buildings.memory_usage().sum() / 1024**2, \"Мб\")\n",
    "print (\"Погода: \", weather.memory_usage().sum() / 1024**2, \"Мб\")\n",
    "print (\"Энергопотребление: \", energy.memory_usage().sum() / 1024**2, \"Мб\")"
   ]
  },
  {
   "cell_type": "markdown",
   "id": "8d0a684d",
   "metadata": {},
   "source": [
    "### Функция оптимизация памяти"
   ]
  },
  {
   "cell_type": "code",
   "execution_count": 5,
   "id": "6c5c03bd",
   "metadata": {},
   "outputs": [],
   "source": [
    "def reduce_mem_usage (df):\n",
    "    start_mem = df.memory_usage().sum() / 1024**2    \n",
    "    for col in df.columns:\n",
    "        col_type = df[col].dtypes\n",
    "        if str(col_type)[:5] == \"float\":\n",
    "            c_min = df[col].min()\n",
    "            c_max = df[col].max()\n",
    "            if c_min > np.finfo(\"f2\").min and c_max < np.finfo(\"f2\").max:\n",
    "                df[col] = df[col].astype(np.float16)\n",
    "            elif c_min > np.finfo(\"f4\").min and c_max < np.finfo(\"f4\").max:\n",
    "                df[col] = df[col].astype(np.float32)\n",
    "            else:\n",
    "                df[col] = df[col].astype(np.float64)\n",
    "        elif str(col_type)[:3] == \"int\":\n",
    "            c_min = df[col].min()\n",
    "            c_max = df[col].max()\n",
    "            if c_min > np.iinfo(\"i1\").min and c_max < np.iinfo(\"i1\").max:\n",
    "                df[col] = df[col].astype(np.int8)\n",
    "            elif c_min > np.iinfo(\"i2\").min and c_max < np.iinfo(\"i2\").max:\n",
    "                df[col] = df[col].astype(np.int16)\n",
    "            elif c_min > np.iinfo(\"i4\").min and c_max < np.iinfo(\"i4\").max:\n",
    "                df[col] = df[col].astype(np.int32)\n",
    "            elif c_min > np.iinfo(\"i8\").min and c_max < np.iinfo(\"i8\").max:\n",
    "                df[col] = df[col].astype(np.int64)\n",
    "        elif col == \"timestamp\":\n",
    "            df[col] = pd.to_datetime(df[col])\n",
    "        elif str(col_type)[:8] != \"datetime\":\n",
    "            df[col] = df[col].astype(\"category\")\n",
    "    end_mem = df.memory_usage().sum() / 1024**2\n",
    "    print('Потребление памяти меньше на',\n",
    "          round(start_mem - end_mem, 2),\n",
    "          'Мб (минус',\n",
    "          round(100 * (start_mem - end_mem) / start_mem, 1),\n",
    "         '%)')\n",
    "    return df"
   ]
  },
  {
   "cell_type": "markdown",
   "id": "8a6fdd93",
   "metadata": {},
   "source": [
    "### Оптимизация памяти: строения"
   ]
  },
  {
   "cell_type": "code",
   "execution_count": 6,
   "id": "bebcbc0c",
   "metadata": {},
   "outputs": [
    {
     "name": "stdout",
     "output_type": "stream",
     "text": [
      "Потребление памяти меньше на 0.05 Мб (минус 73.9 %)\n",
      "<class 'pandas.core.frame.DataFrame'>\n",
      "RangeIndex: 1449 entries, 0 to 1448\n",
      "Data columns (total 6 columns):\n",
      " #   Column       Non-Null Count  Dtype   \n",
      "---  ------       --------------  -----   \n",
      " 0   site_id      1449 non-null   int8    \n",
      " 1   building_id  1449 non-null   int16   \n",
      " 2   primary_use  1449 non-null   category\n",
      " 3   square_feet  1449 non-null   int32   \n",
      " 4   year_built   675 non-null    float16 \n",
      " 5   floor_count  355 non-null    float16 \n",
      "dtypes: category(1), float16(2), int16(1), int32(1), int8(1)\n",
      "memory usage: 17.8 KB\n",
      "None\n"
     ]
    }
   ],
   "source": [
    "buildings = reduce_mem_usage(buildings)\n",
    "print (buildings.info())"
   ]
  },
  {
   "cell_type": "markdown",
   "id": "c1ac0b2f",
   "metadata": {},
   "source": [
    "### Отимизация: погода"
   ]
  },
  {
   "cell_type": "code",
   "execution_count": 7,
   "id": "734cb66c",
   "metadata": {},
   "outputs": [
    {
     "name": "stdout",
     "output_type": "stream",
     "text": [
      "Потребление памяти меньше на 6.53 Мб (минус 68.1 %)\n",
      "<class 'pandas.core.frame.DataFrame'>\n",
      "RangeIndex: 139773 entries, 0 to 139772\n",
      "Data columns (total 9 columns):\n",
      " #   Column              Non-Null Count   Dtype         \n",
      "---  ------              --------------   -----         \n",
      " 0   site_id             139773 non-null  int8          \n",
      " 1   timestamp           139773 non-null  datetime64[ns]\n",
      " 2   air_temperature     139718 non-null  float16       \n",
      " 3   cloud_coverage      70600 non-null   float16       \n",
      " 4   dew_temperature     139660 non-null  float16       \n",
      " 5   precip_depth_1_hr   89484 non-null   float16       \n",
      " 6   sea_level_pressure  129155 non-null  float16       \n",
      " 7   wind_direction      133505 non-null  float16       \n",
      " 8   wind_speed          139469 non-null  float16       \n",
      "dtypes: datetime64[ns](1), float16(7), int8(1)\n",
      "memory usage: 3.1 MB\n",
      "None\n"
     ]
    }
   ],
   "source": [
    "weather = reduce_mem_usage(weather)\n",
    "print (weather.info())"
   ]
  },
  {
   "cell_type": "markdown",
   "id": "e1a7262d",
   "metadata": {},
   "source": [
    "### Оптимизация: энергопотребление"
   ]
  },
  {
   "cell_type": "code",
   "execution_count": 8,
   "id": "c9aed667",
   "metadata": {},
   "outputs": [
    {
     "name": "stdout",
     "output_type": "stream",
     "text": [
      "Потребление памяти меньше на 195.54 Мб (минус 53.1 %)\n",
      "<class 'pandas.core.frame.DataFrame'>\n",
      "RangeIndex: 12060910 entries, 0 to 12060909\n",
      "Data columns (total 4 columns):\n",
      " #   Column         Dtype         \n",
      "---  ------         -----         \n",
      " 0   building_id    int16         \n",
      " 1   meter          int8          \n",
      " 2   timestamp      datetime64[ns]\n",
      " 3   meter_reading  float32       \n",
      "dtypes: datetime64[ns](1), float32(1), int16(1), int8(1)\n",
      "memory usage: 172.5 MB\n",
      "None\n"
     ]
    }
   ],
   "source": [
    "energy = reduce_mem_usage(energy)\n",
    "print (energy.info())"
   ]
  },
  {
   "cell_type": "markdown",
   "id": "f2ed2fa5",
   "metadata": {},
   "source": [
    "### Объединение данных"
   ]
  },
  {
   "cell_type": "code",
   "execution_count": 9,
   "id": "4fd468b8",
   "metadata": {},
   "outputs": [
    {
     "name": "stdout",
     "output_type": "stream",
     "text": [
      "<class 'pandas.core.frame.DataFrame'>\n",
      "RangeIndex: 12060910 entries, 0 to 12060909\n",
      "Data columns (total 14 columns):\n",
      " #   Column              Dtype         \n",
      "---  ------              -----         \n",
      " 0   timestamp           datetime64[ns]\n",
      " 1   building_id         int16         \n",
      " 2   meter_reading       float32       \n",
      " 3   primary_use         category      \n",
      " 4   square_feet         int32         \n",
      " 5   year_built          float16       \n",
      " 6   floor_count         float16       \n",
      " 7   air_temperature     float16       \n",
      " 8   cloud_coverage      float16       \n",
      " 9   dew_temperature     float16       \n",
      " 10  precip_depth_1_hr   float16       \n",
      " 11  sea_level_pressure  float16       \n",
      " 12  wind_direction      float16       \n",
      " 13  wind_speed          float16       \n",
      "dtypes: category(1), datetime64[ns](1), float16(9), float32(1), int16(1), int32(1)\n",
      "memory usage: 425.6 MB\n",
      "None\n"
     ]
    }
   ],
   "source": [
    "energy = pd.merge(left=energy, right=buildings, how=\"left\",\n",
    "                   left_on=\"building_id\", right_on=\"building_id\")\n",
    "energy = pd.merge(left=energy.set_index([\"timestamp\", \"site_id\"]),\n",
    "                  right=weather.set_index([\"timestamp\", \"site_id\"]),\n",
    "                  how=\"left\", left_index=True, right_index=True)\n",
    "energy.reset_index(inplace=True)\n",
    "energy = energy.drop(columns=[\"site_id\", \"meter\"], axis=1)\n",
    "print (energy.info())"
   ]
  },
  {
   "cell_type": "markdown",
   "id": "433f4b22",
   "metadata": {},
   "source": [
    "### Исследование диапазона данных"
   ]
  },
  {
   "cell_type": "code",
   "execution_count": 10,
   "id": "b6b75c1d",
   "metadata": {},
   "outputs": [
    {
     "name": "stdout",
     "output_type": "stream",
     "text": [
      "wind speed: [0.0, 0.5, 1.0, 1.3, 2.1, 2.2, 2.6, 3.0, 3.1, 3.6, 4.1, nan, 1.5, 1.6, 2.0, 3.2, 4.0, 4.6, 5.0, 5.1, 5.7, 6.0, 6.1, 6.2, 6.7, 7.0, 7.2, 7.7, 8.0, 8.2, 8.7, 8.8, 9.0, 9.3, 9.8, 10.0, 10.3, 10.8, 11.0, 11.3, 11.8, 12.0, 12.4, 12.8, 12.9, 13.0, 13.4, 13.9, 14.0, 14.4, 14.9, 15.0, 15.4, 16.0, 16.5, 17.0, 18.0, 18.5, 19.0]\n",
      "cloud coverage: [6.0, nan, 0.0, 1.0, 2.0, 3.0, 4.0, 5.0, 7.0, 8.0, 9.0]\n",
      "precip depth: [nan, -1.0, 0.0, 2.0, 3.0, 4.0, 5.0, 6.0, 7.0, 8.0, 9.0, 10.0, 11.0, 12.0, 13.0, 14.0, 15.0, 16.0, 17.0, 18.0, 19.0, 20.0, 21.0, 22.0, 23.0, 24.0, 25.0, 26.0, 27.0, 28.0, 29.0, 30.0, 31.0, 32.0, 33.0, 34.0, 35.0, 36.0, 37.0, 38.0, 39.0, 40.0, 41.0, 42.0, 43.0, 45.0, 46.0, 47.0, 48.0, 50.0, 51.0, 53.0, 55.0, 56.0, 58.0, 60.0, 61.0, 64.0, 66.0, 68.0, 69.0, 70.0, 71.0, 73.0, 74.0, 76.0, 78.0, 79.0, 81.0, 83.0, 84.0, 86.0, 89.0, 91.0, 94.0, 97.0, 98.0, 99.0, 102.0, 103.0, 104.0, 105.0, 107.0, 109.0, 112.0, 113.0, 114.0, 119.0, 122.0, 124.0, 127.0, 130.0, 132.0, 135.0, 137.0, 140.0, 142.0, 145.0, 147.0, 150.0, 152.0, 155.0, 160.0, 162.0, 163.0, 164.0, 165.0, 175.0, 180.0, 191.0, 193.0, 196.0, 198.0, 201.0, 203.0, 211.0, 216.0, 217.0, 221.0, 234.0, 236.0, 239.0, 241.0, 257.0, 262.0, 310.0, 333.0, 340.0, 343.0]\n"
     ]
    }
   ],
   "source": [
    "print (\"wind speed:\", sorted(energy[\"wind_speed\"].unique()))\n",
    "print (\"cloud coverage:\", sorted(energy[\"cloud_coverage\"].unique()))\n",
    "print (\"precip depth:\", sorted(energy[\"precip_depth_1_hr\"].unique()))"
   ]
  },
  {
   "cell_type": "markdown",
   "id": "a0577eb2",
   "metadata": {},
   "source": [
    "### Приведение к целым типам"
   ]
  },
  {
   "cell_type": "code",
   "execution_count": 11,
   "id": "f6120c99",
   "metadata": {},
   "outputs": [],
   "source": [
    "def round_fillna (df, columns):\n",
    "    for col in columns:\n",
    "        type_ = \"int8\"\n",
    "        if col in [\"wind_direction\", \"year_built\", \"precip_depth_1_hr\"]:\n",
    "            type_ = \"int16\"\n",
    "        if col == \"precip_depth_1_hr\":\n",
    "            df[col] = df[col].apply(lambda x:0 if x<0 else x)\n",
    "        df[col] = np.round(df[col].fillna(value=0)).astype(type_)\n",
    "    return df"
   ]
  },
  {
   "cell_type": "code",
   "execution_count": 12,
   "id": "9673aeb7",
   "metadata": {},
   "outputs": [
    {
     "name": "stdout",
     "output_type": "stream",
     "text": [
      "<class 'pandas.core.frame.DataFrame'>\n",
      "RangeIndex: 12060910 entries, 0 to 12060909\n",
      "Data columns (total 14 columns):\n",
      " #   Column              Dtype         \n",
      "---  ------              -----         \n",
      " 0   timestamp           datetime64[ns]\n",
      " 1   building_id         int16         \n",
      " 2   meter_reading       float32       \n",
      " 3   primary_use         category      \n",
      " 4   square_feet         int32         \n",
      " 5   year_built          int16         \n",
      " 6   floor_count         int8          \n",
      " 7   air_temperature     float16       \n",
      " 8   cloud_coverage      int8          \n",
      " 9   dew_temperature     float16       \n",
      " 10  precip_depth_1_hr   int16         \n",
      " 11  sea_level_pressure  float16       \n",
      " 12  wind_direction      int16         \n",
      " 13  wind_speed          int8          \n",
      "dtypes: category(1), datetime64[ns](1), float16(3), float32(1), int16(4), int32(1), int8(3)\n",
      "memory usage: 391.1 MB\n",
      "None\n"
     ]
    }
   ],
   "source": [
    "energy = round_fillna(energy, [\"wind_direction\", \"wind_speed\",\n",
    "        \"cloud_coverage\", \"precip_depth_1_hr\",\n",
    "        \"year_built\", \"floor_count\"])\n",
    "print (energy.info())"
   ]
  },
  {
   "cell_type": "markdown",
   "id": "d53ac3de",
   "metadata": {},
   "source": [
    "### Удаление отработанных данных\n",
    "\n"
   ]
  },
  {
   "cell_type": "code",
   "execution_count": 14,
   "id": "83104e03",
   "metadata": {},
   "outputs": [],
   "source": [
    "del buildings\n",
    "del weather\n",
    "del energy"
   ]
  },
  {
   "cell_type": "code",
   "execution_count": null,
   "id": "2a459cad",
   "metadata": {},
   "outputs": [],
   "source": []
  }
 ],
 "metadata": {
  "kernelspec": {
   "display_name": "Python 3 (ipykernel)",
   "language": "python",
   "name": "python3"
  },
  "language_info": {
   "codemirror_mode": {
    "name": "ipython",
    "version": 3
   },
   "file_extension": ".py",
   "mimetype": "text/x-python",
   "name": "python",
   "nbconvert_exporter": "python",
   "pygments_lexer": "ipython3",
   "version": "3.8.8"
  }
 },
 "nbformat": 4,
 "nbformat_minor": 5
}
