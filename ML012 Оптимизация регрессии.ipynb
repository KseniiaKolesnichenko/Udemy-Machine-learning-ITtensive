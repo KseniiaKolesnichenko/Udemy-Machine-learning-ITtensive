{
 "cells": [
  {
   "cell_type": "code",
   "execution_count": 6,
   "metadata": {},
   "outputs": [],
   "source": [
    "import pandas as pd\n",
    "a=pd.DataFrame()\n",
    "a.groupby?\n"
   ]
  },
  {
   "cell_type": "markdown",
   "metadata": {},
   "source": [
    "### Постановка задачи\n",
    "Рассмотрим несколько моделей линейной регрессии, чтобы выяснить более оптимальную для первых 20 зданий.\n",
    "\n",
    "Данные:\n",
    "* http://video.ittensive.com/machine-learning/ashrae/building_metadata.csv.gz\n",
    "* http://video.ittensive.com/machine-learning/ashrae/weather_train.csv.gz\n",
    "* http://video.ittensive.com/machine-learning/ashrae/train.0.csv.gz\n",
    "Соревнование: https://www.kaggle.com/c/ashrae-energy-prediction/\n",
    "\n",
    "© ITtensive, 2020"
   ]
  },
  {
   "cell_type": "markdown",
   "metadata": {},
   "source": [
    "### Подключение библиотек"
   ]
  },
  {
   "cell_type": "code",
   "execution_count": 1,
   "metadata": {},
   "outputs": [],
   "source": [
    "import pandas as pd\n",
    "from pandas.tseries.holiday import USFederalHolidayCalendar as calendar\n",
    "import numpy as np\n",
    "from scipy.interpolate import interp1d\n",
    "from sklearn.model_selection import train_test_split\n",
    "from sklearn.linear_model import LinearRegression, Lasso, Ridge, ElasticNet, BayesianRidge"
   ]
  },
  {
   "cell_type": "markdown",
   "metadata": {},
   "source": [
    "### Загрузка данных, отсечение 20 зданий, объединение и оптимизация"
   ]
  },
  {
   "cell_type": "code",
   "execution_count": 2,
   "metadata": {},
   "outputs": [],
   "source": [
    "def reduce_mem_usage (df):\n",
    "    start_mem = df.memory_usage().sum() / 1024**2    \n",
    "    for col in df.columns:\n",
    "        col_type = df[col].dtypes\n",
    "        if str(col_type)[:5] == \"float\":\n",
    "            c_min = df[col].min()\n",
    "            c_max = df[col].max()\n",
    "            if c_min > np.finfo(\"f2\").min and c_max < np.finfo(\"f2\").max:\n",
    "                df[col] = df[col].astype(np.float16)\n",
    "            elif c_min > np.finfo(\"f4\").min and c_max < np.finfo(\"f4\").max:\n",
    "                df[col] = df[col].astype(np.float32)\n",
    "            else:\n",
    "                df[col] = df[col].astype(np.float64)\n",
    "        elif str(col_type)[:3] == \"int\":\n",
    "            c_min = df[col].min()\n",
    "            c_max = df[col].max()\n",
    "            if c_min > np.iinfo(\"i1\").min and c_max < np.iinfo(\"i1\").max:\n",
    "                df[col] = df[col].astype(np.int8)\n",
    "            elif c_min > np.iinfo(\"i2\").min and c_max < np.iinfo(\"i2\").max:\n",
    "                df[col] = df[col].astype(np.int16)\n",
    "            elif c_min > np.iinfo(\"i4\").min and c_max < np.iinfo(\"i4\").max:\n",
    "                df[col] = df[col].astype(np.int32)\n",
    "            elif c_min > np.iinfo(\"i8\").min and c_max < np.iinfo(\"i8\").max:\n",
    "                df[col] = df[col].astype(np.int64)\n",
    "        elif col == \"timestamp\":\n",
    "            df[col] = pd.to_datetime(df[col])\n",
    "        elif str(col_type)[:8] != \"datetime\":\n",
    "            df[col] = df[col].astype(\"category\")\n",
    "    end_mem = df.memory_usage().sum() / 1024**2\n",
    "    print('Потребление памяти меньше на', round(start_mem - end_mem, 2), 'Мб (минус', round(100 * (start_mem - end_mem) / start_mem, 1), '%)')\n",
    "    return df"
   ]
  },
  {
   "cell_type": "code",
   "execution_count": 3,
   "metadata": {},
   "outputs": [
    {
     "name": "stdout",
     "output_type": "stream",
     "text": [
      "Потребление памяти меньше на 10.39 Мб (минус 70.5 %)\n",
      "<class 'pandas.core.frame.DataFrame'>\n",
      "RangeIndex: 175680 entries, 0 to 175679\n",
      "Data columns (total 11 columns):\n",
      " #   Column              Non-Null Count   Dtype         \n",
      "---  ------              --------------   -----         \n",
      " 0   timestamp           175680 non-null  datetime64[ns]\n",
      " 1   building_id         175680 non-null  int8          \n",
      " 2   meter_reading       175680 non-null  float16       \n",
      " 3   primary_use         175680 non-null  category      \n",
      " 4   air_temperature     175620 non-null  float16       \n",
      " 5   cloud_coverage      99080 non-null   float16       \n",
      " 6   dew_temperature     175620 non-null  float16       \n",
      " 7   precip_depth_1_hr   175660 non-null  float16       \n",
      " 8   sea_level_pressure  173980 non-null  float16       \n",
      " 9   wind_direction      170680 non-null  float16       \n",
      " 10  wind_speed          175680 non-null  float16       \n",
      "dtypes: category(1), datetime64[ns](1), float16(8), int8(1)\n",
      "memory usage: 4.4 MB\n",
      "None\n"
     ]
    }
   ],
   "source": [
    "buildings = pd.read_csv(\"http://video.ittensive.com/machine-learning/ashrae/building_metadata.csv.gz\")\n",
    "weather = pd.read_csv(\"http://video.ittensive.com/machine-learning/ashrae/weather_train.csv.gz\")\n",
    "energy = pd.read_csv(\"http://video.ittensive.com/machine-learning/ashrae/train.0.csv.gz\")\n",
    "energy = energy[(energy[\"building_id\"]<20)]\n",
    "energy = pd.merge(left=energy, right=buildings, how=\"left\",\n",
    "                   left_on=\"building_id\", right_on=\"building_id\")\n",
    "energy = energy.set_index([\"timestamp\", \"site_id\"])\n",
    "weather = weather.set_index([\"timestamp\", \"site_id\"])\n",
    "energy = pd.merge(left=energy, right=weather, how=\"left\",\n",
    "                  left_index=True, right_index=True)\n",
    "energy.reset_index(inplace=True)\n",
    "energy = energy.drop(columns=[\"meter\", \"site_id\", \"year_built\",\n",
    "                              \"square_feet\", \"floor_count\"], axis=1)\n",
    "del buildings\n",
    "del weather\n",
    "energy = reduce_mem_usage(energy)\n",
    "print (energy.info())"
   ]
  },
  {
   "cell_type": "markdown",
   "metadata": {},
   "source": [
    "### Обогащение данных: час, дни недели, праздники, логарифм"
   ]
  },
  {
   "cell_type": "code",
   "execution_count": 4,
   "metadata": {},
   "outputs": [],
   "source": [
    "energy[\"hour\"] = energy[\"timestamp\"].dt.hour.astype(\"int8\")\n",
    "energy[\"weekday\"] = energy[\"timestamp\"].dt.weekday.astype(\"int8\")\n",
    "for weekday in range(0,7):\n",
    "    energy['is_wday' + str(weekday)] = energy['weekday'].isin([weekday]).astype(\"int8\")\n",
    "energy[\"date\"] = pd.to_datetime(energy[\"timestamp\"].dt.date)\n",
    "dates_range = pd.date_range(start='2015-12-31', end='2017-01-01')\n",
    "us_holidays = calendar().holidays(start=dates_range.min(),\n",
    "                                  end=dates_range.max())\n",
    "energy['is_holiday'] = energy['date'].isin(us_holidays).astype(\"int8\")\n",
    "energy[\"meter_reading_log\"] = np.log(energy[\"meter_reading\"] + 1)"
   ]
  },
  {
   "cell_type": "markdown",
   "metadata": {},
   "source": [
    "### Разделение данных"
   ]
  },
  {
   "cell_type": "code",
   "execution_count": 5,
   "metadata": {},
   "outputs": [
    {
     "name": "stdout",
     "output_type": "stream",
     "text": [
      "                 timestamp  building_id  meter_reading          primary_use  \\\n",
      "160552 2016-11-30 11:00:00           12       258.7500  Lodging/residential   \n",
      "157434 2016-11-23 23:00:00           14       404.0000            Education   \n",
      "151540 2016-11-11 17:00:00            0       188.3750            Education   \n",
      "108255 2016-08-13 12:00:00           15       251.8750               Office   \n",
      "95166  2016-07-17 06:00:00            6        79.0625  Lodging/residential   \n",
      "\n",
      "        air_temperature  cloud_coverage  dew_temperature  precip_depth_1_hr  \\\n",
      "160552        19.406250             2.0        18.906250                0.0   \n",
      "157434        22.796875             NaN        16.703125                0.0   \n",
      "151540        24.406250             NaN        11.703125                0.0   \n",
      "108255        25.000000             2.0        23.296875                0.0   \n",
      "95166         25.593750             6.0        22.796875                0.0   \n",
      "\n",
      "        sea_level_pressure  wind_direction  ...  is_wday0  is_wday1  is_wday2  \\\n",
      "160552              1015.0           160.0  ...         0         0         1   \n",
      "157434              1022.0            80.0  ...         0         0         1   \n",
      "151540              1018.0           320.0  ...         0         0         0   \n",
      "108255              1017.5           120.0  ...         0         0         0   \n",
      "95166               1020.5             0.0  ...         0         0         0   \n",
      "\n",
      "        is_wday3  is_wday4  is_wday5  is_wday6       date  is_holiday  \\\n",
      "160552         0         0         0         0 2016-11-30           0   \n",
      "157434         0         0         0         0 2016-11-23           0   \n",
      "151540         0         1         0         0 2016-11-11           1   \n",
      "108255         0         0         1         0 2016-08-13           0   \n",
      "95166          0         0         0         1 2016-07-17           0   \n",
      "\n",
      "        meter_reading_log  \n",
      "160552           5.558594  \n",
      "157434           6.003906  \n",
      "151540           5.242188  \n",
      "108255           5.531250  \n",
      "95166            4.382812  \n",
      "\n",
      "[5 rows x 23 columns]\n"
     ]
    }
   ],
   "source": [
    "energy_train, energy_test = train_test_split(energy[energy[\"meter_reading\"]>0], test_size=0.2)\n",
    "print (energy_train.head())"
   ]
  },
  {
   "cell_type": "markdown",
   "metadata": {},
   "source": [
    "### Линейная регрессия: по часам"
   ]
  },
  {
   "cell_type": "code",
   "execution_count": 6,
   "metadata": {},
   "outputs": [],
   "source": [
    "from sklearn.metrics import r2_score"
   ]
  },
  {
   "cell_type": "code",
   "execution_count": 7,
   "metadata": {},
   "outputs": [],
   "source": [
    "hours = range(0, 24)\n",
    "buildings = range(0, energy_train[\"building_id\"].max() + 1)\n",
    "lr_columns = [\"meter_reading_log\", \"hour\", \"building_id\", \"is_holiday\"]\n",
    "for wday in range(0,7):\n",
    "    lr_columns.append(\"is_wday\" + str(wday))\n",
    "lr_models = {\n",
    "    \"LinearRegression\": LinearRegression,\n",
    "    \"Lasso-0.01\": Lasso,\n",
    "    \"Lasso-0.1\": Lasso,\n",
    "    \"Lasso-1.0\": Lasso,\n",
    "    \"Ridge-0.01\": Ridge,\n",
    "    \"Ridge-0.1\": Ridge,\n",
    "    \"Ridge-1.0\": Ridge,\n",
    "    \"ElasticNet-1-1\": ElasticNet,\n",
    "    \"ElasticNet-0.1-1\": ElasticNet,\n",
    "    \"ElasticNet-1-0.1\": ElasticNet,\n",
    "    \"ElasticNet-0.1-0.1\": ElasticNet,\n",
    "    \"BayesianRidge\": BayesianRidge\n",
    "}\n",
    "energy_train_lr = pd.DataFrame(energy_train, columns=lr_columns)"
   ]
  },
  {
   "cell_type": "markdown",
   "metadata": {},
   "source": [
    "Линейная регрессия\n",
    "\\begin{equation}\n",
    "z = Ax + By + C, |z-z_0|^2 \\rightarrow min\n",
    "\\end{equation}\n",
    "Лассо + LARS Лассо\n",
    "\\begin{equation}\n",
    "\\frac{1}{2n}|z-z_0|^2 + a(|A|+|B|) \\rightarrow min\n",
    "\\end{equation}\n",
    "Гребневая регрессия\n",
    "\\begin{equation}\n",
    "|z-z_0|^2 + a(A^2 + B^2) \\rightarrow min\n",
    "\\end{equation}\n",
    "ElasticNet: Лассо + Гребневая регрессия\n",
    "\\begin{equation}\n",
    "\\frac{1}{2n}|z-z_0|^2 + \\alpha p|A^2+B^2| + (\\alpha - p)(|A|+|B|)/2 \\rightarrow min\n",
    "\\end{equation}"
   ]
  },
  {
   "cell_type": "code",
   "execution_count": 8,
   "metadata": {},
   "outputs": [],
   "source": [
    "lr_models_scores = {}\n",
    "for _ in lr_models:\n",
    "    lr_model = lr_models[_] # что означает такая запись? \n",
    "    energy_lr_scores = [[]]*len(buildings)\n",
    "    for building in buildings:\n",
    "        energy_lr_scores[building] = [0]*len(hours)\n",
    "        energy_train_b = energy_train_lr[energy_train_lr[\"building_id\"]==building]\n",
    "        for hour in hours:\n",
    "            energy_train_bh = energy_train_b[energy_train_b[\"hour\"]==hour]\n",
    "            y = energy_train_bh[\"meter_reading_log\"]\n",
    "            x = energy_train_bh.drop(labels=[\"meter_reading_log\",\n",
    "                \"hour\", \"building_id\"], axis=1)\n",
    "            if _ in [\"Ridge-0.1\", \"Lasso-0.1\"]:\n",
    "                model = lr_model(alpha=.1, fit_intercept=False).fit(x, y)\n",
    "            elif _ in [\"Ridge-0.01\", \"Lasso-0.01\"]:\n",
    "                model = lr_model(alpha=.01, fit_intercept=False).fit(x, y)\n",
    "            elif _ == \"ElasticNet-1-1\":\n",
    "                model = lr_model(alpha=1, l1_ratio=1, fit_intercept=False).fit(x, y)\n",
    "            elif _ == \"ElasticNet-1-0.1\":\n",
    "                model = lr_model(alpha=1, l1_ratio=.1, fit_intercept=False).fit(x, y)\n",
    "            elif _ == \"ElasticNet-0.1-1\":\n",
    "                model = lr_model(alpha=.1, l1_ratio=1, fit_intercept=False).fit(x, y)\n",
    "            elif _ == \"ElasticNet-0.1-0.1\":\n",
    "                model = lr_model(alpha=.1, l1_ratio=.05, fit_intercept=False).fit(x, y)\n",
    "            else:\n",
    "                model = lr_model(fit_intercept=False).fit(x, y)\n",
    "            energy_lr_scores[building][hour] = r2_score(y, model.predict(x))\n",
    "    lr_models_scores[_] = np.mean(energy_lr_scores)"
   ]
  },
  {
   "cell_type": "code",
   "execution_count": 9,
   "metadata": {},
   "outputs": [
    {
     "name": "stdout",
     "output_type": "stream",
     "text": [
      "{'LinearRegression': 0.1318023081238725, 'Lasso-0.01': -0.20007999374179403, 'Lasso-0.1': -32.03461604401695, 'Lasso-1.0': -2507.873199618787, 'Ridge-0.01': 0.1313742070230314, 'Ridge-0.1': 0.08936329481642487, 'Ridge-1.0': -3.77871036410482, 'ElasticNet-1-1': -2507.873199618787, 'ElasticNet-0.1-1': -32.03461604401695, 'ElasticNet-1-0.1': -2077.8941816421566, 'ElasticNet-0.1-0.1': -435.96203925575014, 'BayesianRidge': 0.13179252466224745}\n"
     ]
    }
   ],
   "source": [
    "print (lr_models_scores)"
   ]
  },
  {
   "cell_type": "markdown",
   "metadata": {},
   "source": [
    "### Проверим модели: LinearRegression, Lasso, BayesianRidge"
   ]
  },
  {
   "cell_type": "code",
   "execution_count": 10,
   "metadata": {},
   "outputs": [
    {
     "name": "stdout",
     "output_type": "stream",
     "text": [
      "[-0.0964143   5.43139371  5.44375     5.50766782  5.4404922   5.45052315\n",
      "  5.42621528  5.3884375   0.        ]\n",
      "[-0.          5.34055707  5.37175     5.44100116  5.37025463  5.37758413\n",
      "  5.35954861  5.3164375   0.        ]\n",
      "[-0.09574886  5.43072078  5.44320952  5.5071615   5.4399674   5.44997721\n",
      "  5.42571644  5.38790251  0.        ]\n"
     ]
    }
   ],
   "source": [
    "energy_lr = [[]]*len(buildings)\n",
    "energy_lasso = [[]]*len(buildings)\n",
    "energy_br = [[]]*len(buildings)\n",
    "for building in buildings:    \n",
    "    energy_train_b = energy_train_lr[energy_train_lr[\"building_id\"]==building]\n",
    "    energy_lr[building] = [[]]*len(hours)\n",
    "    energy_lasso[building] = [[]]*len(hours)\n",
    "    energy_br[building] = [[]]*len(hours)\n",
    "    for hour in hours:\n",
    "        energy_train_bh = pd.DataFrame(energy_train_b[energy_train_b[\"hour\"]==hour])\n",
    "        y = energy_train_bh[\"meter_reading_log\"]\n",
    "        if len(y) > 0:\n",
    "            x = energy_train_bh.drop(labels=[\"meter_reading_log\",\n",
    "                \"hour\", \"building_id\"], axis=1)\n",
    "            model = LinearRegression(fit_intercept=False).fit(x, y)\n",
    "            energy_lr[building][hour] = np.append([model.coef_], model.intercept_)\n",
    "            model = Lasso(fit_intercept=False, alpha=.01).fit(x, y)\n",
    "            energy_lasso[building][hour] = np.append([model.coef_], model.intercept_)\n",
    "            model = BayesianRidge(fit_intercept=False).fit(x, y)\n",
    "            energy_br[building][hour] = np.append([model.coef_], model.intercept_)\n",
    "print (energy_lr[0][0])\n",
    "print (energy_lasso[0][0])\n",
    "print (energy_br[0][0])"
   ]
  },
  {
   "cell_type": "markdown",
   "metadata": {},
   "source": [
    "Первые коэффициенты для самых точных моделей не отличаются друг от друга. \n",
    "Использование другого подхода кроме обычной линейной регрессии не даст точности в расчётах, при больших весах лучше будет лассо, а для при большем количестве параметров для расчёта - байесовская гребневая регрессия. "
   ]
  },
  {
   "cell_type": "code",
   "execution_count": null,
   "metadata": {},
   "outputs": [],
   "source": []
  }
 ],
 "metadata": {
  "kernelspec": {
   "display_name": "Python 3",
   "language": "python",
   "name": "python3"
  },
  "language_info": {
   "codemirror_mode": {
    "name": "ipython",
    "version": 3
   },
   "file_extension": ".py",
   "mimetype": "text/x-python",
   "name": "python",
   "nbconvert_exporter": "python",
   "pygments_lexer": "ipython3",
   "version": "3.8.10"
  }
 },
 "nbformat": 4,
 "nbformat_minor": 2
}
